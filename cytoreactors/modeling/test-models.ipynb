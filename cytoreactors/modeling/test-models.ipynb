{
 "cells": [
  {
   "cell_type": "code",
   "execution_count": null,
   "metadata": {},
   "outputs": [],
   "source": [
    "import cytoreactors.modeling.EL222_model_2V_3P_A as model\n",
    "from cytoreactors.modeling.simulation import simulate, simulate_analytic, light_profile_to_traj, light_profile_to_t_change\n",
    "import matplotlib.pyplot as plt\n",
    "import numpy as np"
   ]
  },
  {
   "cell_type": "code",
   "execution_count": null,
   "metadata": {},
   "outputs": [],
   "source": [
    "light_profile = [(40,0.1),(0,0.4),(40,0.1),(0,0.4), (40,2),(0,4),(40,1.5)]"
   ]
  },
  {
   "cell_type": "code",
   "execution_count": null,
   "metadata": {},
   "outputs": [],
   "source": [
    "pars_1 = {'sigma':7700, 'deg_m':0.41, 'deg_fp':1.58}\n",
    "pars_2 = {'sigma':2000, 'deg_m':1.58, 'deg_fp':0.41}"
   ]
  },
  {
   "cell_type": "code",
   "execution_count": null,
   "metadata": {},
   "outputs": [],
   "source": [
    "y0 = [0,0]\n",
    "plt.figure(figsize=(8,4))\n",
    "ts,intensities = light_profile_to_traj(light_profile)\n",
    "for pars in [pars_1,pars_2]:\n",
    "    t_an, y_an, fp_an, _ = simulate_analytic(model=model, \n",
    "                  model_pars=pars, \n",
    "                  light_profile=light_profile,\n",
    "                  y0=y0,\n",
    "                  n_evals=31)\n",
    "    plt.plot(t_an, y_an[-1], label=str(pars))\n",
    "plt.legend()\n",
    "plt.plot(ts,intensities*20,'b')"
   ]
  },
  {
   "cell_type": "code",
   "execution_count": null,
   "metadata": {},
   "outputs": [],
   "source": []
  },
  {
   "cell_type": "code",
   "execution_count": 2,
   "metadata": {},
   "outputs": [
    {
     "data": {
      "text/plain": [
       "<matplotlib.legend.Legend at 0x1c0891cffc8>"
      ]
     },
     "execution_count": 2,
     "metadata": {},
     "output_type": "execute_result"
    },
    {
     "data": {
      "image/png": "[encoded data removed]",
      "text/plain": [
       "<Figure size 576x288 with 1 Axes>"
      ]
     },
     "metadata": {
      "needs_background": "light"
     },
     "output_type": "display_data"
    }
   ],
   "source": [
    "import cytoreactors.modeling.DIFF_model_growers_producers_V2 as model\n",
    "from cytoreactors.modeling.simulation import light_profile_to_traj\n",
    "import matplotlib.pyplot as plt\n",
    "\n",
    "pars = model.default_model_pars.copy()\n",
    "pars['dru'] = 2\n",
    "pars['drh'] = 2\n",
    "\n",
    "light_profile = [(40,1), (0,30)]\n",
    "y0 = [1,0,0,0]\n",
    "plt.figure(figsize=(8,4))\n",
    "ts,intensities = light_profile_to_traj(light_profile)\n",
    "t, y, p_and_e_at_edges, t_at_edges = model.simulate(model=model, \n",
    "                  model_pars=pars, \n",
    "                  light_profile=light_profile,\n",
    "                  y0=y0,\n",
    "                  n_evals=31)\n",
    "plt.plot(t,y[1]+y[2],'r', label='p + e')\n",
    "plt.plot(t,y[0],'g', label='g')\n",
    "plt.plot(t,y[1],'m', label='p')\n",
    "plt.plot(ts,intensities/120,'b')\n",
    "plt.legend()"
   ]
  },
  {
   "cell_type": "code",
   "execution_count": null,
   "metadata": {},
   "outputs": [],
   "source": []
  },
  {
   "cell_type": "code",
   "execution_count": null,
   "metadata": {},
   "outputs": [],
   "source": []
  },
  {
   "cell_type": "code",
   "execution_count": null,
   "metadata": {},
   "outputs": [],
   "source": []
  },
  {
   "cell_type": "code",
   "execution_count": null,
   "metadata": {},
   "outputs": [],
   "source": []
  },
  {
   "cell_type": "code",
   "execution_count": null,
   "metadata": {},
   "outputs": [],
   "source": [
    "pars['growth_defect_hill_conc'] = 100\n",
    "pars['growth_defect_hill_exp'] = 5.\n",
    "\n",
    "pars['prod_R_hill_conc'] = 300.\n",
    "pars['prod_R_hill_exp'] = 8.\n",
    "pars['R_action_rate'] = 0.5\n",
    "pars['prod_R_basal'] = 0\n",
    "pars['prod_R_max'] = 1.\n",
    "\n",
    "pars['k_prod'] = 30\n",
    "\n",
    "pars"
   ]
  },
  {
   "cell_type": "code",
   "execution_count": null,
   "metadata": {},
   "outputs": [],
   "source": [
    "def study(pars):\n",
    "    f,axs = plt.subplots(nrows=1, ncols=2, figsize=(14,4))\n",
    "    Pin = np.linspace(0.01,600,10000)\n",
    "    n,c = pars['prod_R_hill_exp'],pars['prod_R_hill_conc']\n",
    "    prod_R = (pars['prod_R_basal'] + (pars['prod_R_max']-pars['prod_R_basal']) * Pin**n / (Pin**n + c**n))\n",
    "    n,c = pars['growth_defect_hill_exp'],pars['growth_defect_hill_conc']\n",
    "    mu = pars['mu_max'] * c**n / (Pin**n + c**n)\n",
    "        \n",
    "    axs[0].plot(Pin, mu*Pin, 'r')\n",
    "    axs[0].plot(Pin, [pars['k_prod']]*len(Pin), 'k')\n",
    "    \n",
    "    axs[1].plot(Pin, mu/pars['mu_max'], 'r')\n",
    "    axs[1].plot(Pin, prod_R/pars['prod_R_max'], 'g')\n",
    "    \n",
    "    #R_ss_pin = (pars['k_prod']-mu*Pin) / pars['R_action_rate'] / Pin\n",
    "    #axs[1].plot(Pin, R_ss_pin, 'g')\n",
    "    \n",
    "    #axs[2].plot(Pin, mu, 'r')\n",
    "    #axs[2].plot(Pin, pars['k_prod']/Pin, 'g')\n",
    "    #axs[2].set(xscale='log', yscale='log')"
   ]
  },
  {
   "cell_type": "code",
   "execution_count": null,
   "metadata": {},
   "outputs": [],
   "source": [
    "study(pars)"
   ]
  },
  {
   "cell_type": "code",
   "execution_count": null,
   "metadata": {},
   "outputs": [],
   "source": [
    "light_profile = [(0,20),(1,200)]\n",
    "y0 = np.array([0,0])\n",
    "t,y,_,_ = simulate(model=model, model_pars=pars, light_profile=light_profile, y0=y0, n_evals=231)\n",
    "Pin,R = y\n",
    "n,c = pars['growth_defect_hill_exp'],pars['growth_defect_hill_conc']\n",
    "mu = pars['mu_max'] * c**n / (Pin**n + c**n)\n",
    "f,axs = plt.subplots(ncols=1, nrows=3, figsize=(12,10))\n",
    "axs[0].plot(t-20,mu,label='mu')\n",
    "axs[1].plot(t-20,Pin,label='Pin')\n",
    "axs[2].plot(t-20,R,label='R')\n",
    "for ax in axs:\n",
    "    ax.legend()\n",
    "    ax.set(xlim=([0,100]))\n",
    "axs[0].set(ylim=(0,pars['mu_max']*1.1));"
   ]
  },
  {
   "cell_type": "code",
   "execution_count": null,
   "metadata": {},
   "outputs": [],
   "source": []
  },
  {
   "cell_type": "code",
   "execution_count": null,
   "metadata": {},
   "outputs": [],
   "source": []
  }
 ],
 "metadata": {
  "kernelspec": {
   "display_name": "Python 3",
   "language": "python",
   "name": "python3"
  },
  "language_info": {
   "codemirror_mode": {
    "name": "ipython",
    "version": 3
   },
   "file_extension": ".py",
   "mimetype": "text/x-python",
   "name": "python",
   "nbconvert_exporter": "python",
   "pygments_lexer": "ipython3",
   "version": "3.7.4"
  }
 },
 "nbformat": 4,
 "nbformat_minor": 4
}
