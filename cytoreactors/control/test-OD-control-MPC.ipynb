{
 "cells": [
  {
   "cell_type": "code",
   "execution_count": 1,
   "metadata": {},
   "outputs": [],
   "source": [
    "import numpy as np\n",
    "from  scipy.optimize import minimize\n",
    "import matplotlib.pyplot as plt"
   ]
  },
  {
   "cell_type": "code",
   "execution_count": 18,
   "metadata": {},
   "outputs": [],
   "source": [
    "def delta_mu_model(OD):\n",
    "    return -(1. / (1. + np.exp((0.85-OD)*15)) - 0.45)/3"
   ]
  },
  {
   "cell_type": "code",
   "execution_count": 12,
   "metadata": {},
   "outputs": [],
   "source": []
  },
  {
   "cell_type": "code",
   "execution_count": 14,
   "metadata": {},
   "outputs": [],
   "source": [
    "delta_mu_data = {0.5: 0.1578659066705365,\n",
    " 0.8: 0.008044063002761817,\n",
    " 0.9: -0.010874560013360728,\n",
    " 1: -0.18062974582582947}"
   ]
  },
  {
   "cell_type": "code",
   "execution_count": 19,
   "metadata": {},
   "outputs": [
    {
     "data": {
      "text/plain": [
       "[<matplotlib.lines.Line2D at 0x165e8256888>]"
      ]
     },
     "execution_count": 19,
     "metadata": {},
     "output_type": "execute_result"
    },
    {
     "data": {
      "image/png": "[encoded data removed]",
      "text/plain": [
       "<Figure size 432x288 with 1 Axes>"
      ]
     },
     "metadata": {
      "needs_background": "light"
     },
     "output_type": "display_data"
    }
   ],
   "source": [
    "f,ax = plt.subplots(ncols=1,nrows=1,figsize=(6,4))\n",
    "for od,delta_mu in delta_mu_data.items():\n",
    "    ax.plot(od,delta_mu,'ro')\n",
    "od_vec = np.linspace(0.4,1.2,100)\n",
    "ax.plot(od_vec, delta_mu_model(od_vec), 'k')"
   ]
  },
  {
   "cell_type": "code",
   "execution_count": 21,
   "metadata": {},
   "outputs": [],
   "source": [
    "# time interval: 2 hours\n",
    "# time unit: 2 hours\n",
    "def predict(r0, ODs):\n",
    "    r = [r0]\n",
    "    for delta_mu in delta_mu_model(ODs):\n",
    "        r.append(r[-1]*np.exp(delta_mu*2))\n",
    "    return np.array(r[1:])"
   ]
  },
  {
   "cell_type": "code",
   "execution_count": 22,
   "metadata": {},
   "outputs": [
    {
     "data": {
      "text/plain": [
       "array([1.34516935, 1.46614873, 1.08278745])"
      ]
     },
     "execution_count": 22,
     "metadata": {},
     "output_type": "execute_result"
    }
   ],
   "source": [
    "predict(1, np.array([0.5,0.8,1]))"
   ]
  },
  {
   "cell_type": "code",
   "execution_count": 24,
   "metadata": {},
   "outputs": [],
   "source": [
    "def cost(ODs, r0, target):\n",
    "    return np.square(predict(r0, ODs)-target).sum()"
   ]
  },
  {
   "cell_type": "code",
   "execution_count": 25,
   "metadata": {},
   "outputs": [],
   "source": [
    "def optimize(r0, target):\n",
    "    res = minimize(fun=cost,\n",
    "                   x0=[0.8]*5,\n",
    "                   args=(r0, target),\n",
    "                   method='L-BFGS-B',\n",
    "                   bounds=[(0.5,1.)]*5)\n",
    "    return res.x"
   ]
  },
  {
   "cell_type": "code",
   "execution_count": 29,
   "metadata": {},
   "outputs": [
    {
     "data": {
      "text/plain": [
       "array([1.        , 1.        , 0.87163209, 0.83662343, 0.83662286])"
      ]
     },
     "execution_count": 29,
     "metadata": {},
     "output_type": "execute_result"
    }
   ],
   "source": [
    "target = 0.5\n",
    "r0 = 1\n",
    "optimize(r0, target)"
   ]
  },
  {
   "cell_type": "code",
   "execution_count": 62,
   "metadata": {},
   "outputs": [
    {
     "data": {
      "text/plain": [
       "[<matplotlib.lines.Line2D at 0x165e9e9efc8>]"
      ]
     },
     "execution_count": 62,
     "metadata": {},
     "output_type": "execute_result"
    },
    {
     "data": {
      "image/png": "[encoded data removed]",
      "text/plain": [
       "<Figure size 432x288 with 2 Axes>"
      ]
     },
     "metadata": {
      "needs_background": "light"
     },
     "output_type": "display_data"
    }
   ],
   "source": [
    "r0 = 1\n",
    "target = 10\n",
    "r = []\n",
    "od = []\n",
    "for i in range(20):\n",
    "    next_od = optimize(r0,target)[0]\n",
    "    r0 = predict(r0, np.array([next_od]))[0]\n",
    "    r.append(r0)\n",
    "    od.append(next_od)\n",
    "f,(ax1,ax2) = plt.subplots(ncols=1,nrows=2)\n",
    "ax1.plot(r, '-ko')\n",
    "ax2.plot(od, '-ro')"
   ]
  },
  {
   "cell_type": "code",
   "execution_count": 61,
   "metadata": {},
   "outputs": [
    {
     "data": {
      "text/plain": [
       "array([ 0.1       ,  0.19306977,  0.37275937,  0.71968567,  1.38949549,\n",
       "        2.6826958 ,  5.17947468, 10.        ])"
      ]
     },
     "execution_count": 61,
     "metadata": {},
     "output_type": "execute_result"
    }
   ],
   "source": [
    "np.logspace(-1,1,8)"
   ]
  },
  {
   "cell_type": "code",
   "execution_count": 56,
   "metadata": {},
   "outputs": [
    {
     "data": {
      "text/plain": [
       "0.14999999999999997"
      ]
     },
     "execution_count": 56,
     "metadata": {},
     "output_type": "execute_result"
    }
   ],
   "source": [
    "(1-0.1*7)/2"
   ]
  },
  {
   "cell_type": "code",
   "execution_count": null,
   "metadata": {},
   "outputs": [],
   "source": []
  }
 ],
 "metadata": {
  "kernelspec": {
   "display_name": "Python 3",
   "language": "python",
   "name": "python3"
  },
  "language_info": {
   "codemirror_mode": {
    "name": "ipython",
    "version": 3
   },
   "file_extension": ".py",
   "mimetype": "text/x-python",
   "name": "python",
   "nbconvert_exporter": "python",
   "pygments_lexer": "ipython3",
   "version": "3.7.4"
  }
 },
 "nbformat": 4,
 "nbformat_minor": 4
}
