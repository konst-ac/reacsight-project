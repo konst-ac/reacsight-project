{
 "cells": [
  {
   "cell_type": "code",
   "execution_count": 1,
   "metadata": {},
   "outputs": [],
   "source": [
    "import cytoreactors.modeling.EL222_model_2V_3P_A as model\n",
    "from cytoreactors.control.MPC import DutyCycleController, SimpleDutyCycleController\n",
    "from cytoreactors.modeling.simulation import simulate, simulate_analytic, light_profile_to_traj\n",
    "import matplotlib.pyplot as plt\n",
    "from time import time"
   ]
  },
  {
   "cell_type": "code",
   "execution_count": 2,
   "metadata": {},
   "outputs": [
    {
     "name": "stdout",
     "output_type": "stream",
     "text": [
      "0.051056861877441406\n",
      "0.10934209823608398\n",
      "0.093780517578125\n",
      "0.14483356475830078\n",
      "0.14871525764465332\n",
      "0.12500643730163574\n",
      "0.09371399879455566\n",
      "0.10203957557678223\n",
      "0.14064598083496094\n",
      "0.07813167572021484\n"
     ]
    }
   ],
   "source": [
    "control = DutyCycleController(target=3000, model=model, model_pars=model.default_model_pars,\n",
    "                             initial_state=[0,0], dc_period_hrs=0.5)\n",
    "all_lps = []\n",
    "t0 = time()\n",
    "for i in range(10):\n",
    "    dcs = control.optimize()\n",
    "    print(time()-t0)\n",
    "    t0= time()\n",
    "    lp = control.dcs_to_light_profile(dcs[:2])\n",
    "    all_lps += lp\n",
    "    t,y,_ = simulate_analytic(control.model, control.model_pars, lp, control.current_state, n_evals=21)\n",
    "    control.current_state = y.transpose()[-1]"
   ]
  },
  {
   "cell_type": "code",
   "execution_count": 3,
   "metadata": {},
   "outputs": [],
   "source": [
    "t,y,_ = simulate(control.model, control.model_pars, all_lps, [0,0], n_evals=21)\n",
    "tl,l = light_profile_to_traj(all_lps)"
   ]
  },
  {
   "cell_type": "code",
   "execution_count": 4,
   "metadata": {},
   "outputs": [
    {
     "data": {
      "image/png": "[encoded data removed]",
      "text/plain": [
       "<Figure size 432x288 with 1 Axes>"
      ]
     },
     "metadata": {
      "needs_background": "light"
     },
     "output_type": "display_data"
    }
   ],
   "source": [
    "plt.plot(t,y[-1],'r')\n",
    "plt.plot([0,10],[control.target,control.target],'k')\n",
    "plt.plot(tl,l*10,'b')\n",
    "plt.ylim([0,control.target*2])\n",
    "plt.grid()"
   ]
  },
  {
   "cell_type": "code",
   "execution_count": null,
   "metadata": {},
   "outputs": [],
   "source": []
  },
  {
   "cell_type": "code",
   "execution_count": null,
   "metadata": {},
   "outputs": [],
   "source": []
  },
  {
   "cell_type": "code",
   "execution_count": null,
   "metadata": {},
   "outputs": [],
   "source": []
  },
  {
   "cell_type": "code",
   "execution_count": null,
   "metadata": {},
   "outputs": [],
   "source": []
  }
 ],
 "metadata": {
  "kernelspec": {
   "display_name": "Python 3",
   "language": "python",
   "name": "python3"
  },
  "language_info": {
   "codemirror_mode": {
    "name": "ipython",
    "version": 3
   },
   "file_extension": ".py",
   "mimetype": "text/x-python",
   "name": "python",
   "nbconvert_exporter": "python",
   "pygments_lexer": "ipython3",
   "version": "3.7.4"
  }
 },
 "nbformat": 4,
 "nbformat_minor": 4
}
