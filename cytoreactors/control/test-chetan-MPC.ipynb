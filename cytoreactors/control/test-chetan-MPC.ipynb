{
 "cells": [
  {
   "cell_type": "code",
   "execution_count": null,
   "metadata": {},
   "outputs": [],
   "source": [
    "from cytoreactors.control.MPC import DutyCycleController\n",
    "import cytoreactors.modeling.DIFF_model_all_growers_with_reservoir as model\n",
    "from cytoreactors.modeling.simulation import simulate, simulate_analytic, light_profile_to_traj\n",
    "from time import time\n",
    "import matplotlib.pyplot as plt"
   ]
  },
  {
   "cell_type": "code",
   "execution_count": null,
   "metadata": {},
   "outputs": [],
   "source": [
    "pars = model.default_model_pars.copy()"
   ]
  },
  {
   "cell_type": "code",
   "execution_count": null,
   "metadata": {},
   "outputs": [],
   "source": [
    "controller = DutyCycleController(target=0.5, \n",
    "                                 model=model, \n",
    "                                 model_pars=pars,\n",
    "                                 initial_state=[0], \n",
    "                                 dc_period_hrs=0.5, \n",
    "                                 n_cycles_horizon=10)"
   ]
  },
  {
   "cell_type": "code",
   "execution_count": null,
   "metadata": {},
   "outputs": [],
   "source": [
    "all_lps = []\n",
    "t0 = time()\n",
    "for i in range(10):\n",
    "    dcs = controller.optimize()\n",
    "    print(time()-t0)\n",
    "    t0= time()\n",
    "    lp = controller.dcs_to_light_profile(dcs[:2])\n",
    "    all_lps += lp\n",
    "    t,y,_,_ = simulate_analytic(controller.model, controller.model_pars, lp, controller.current_state, n_evals=21)\n",
    "    controller.current_state = y.transpose()[-1]"
   ]
  },
  {
   "cell_type": "code",
   "execution_count": null,
   "metadata": {},
   "outputs": [],
   "source": [
    "t,y,_,_ = simulate_analytic(controller.model, controller.model_pars, all_lps, [0], n_evals=21)\n",
    "tl,l = light_profile_to_traj(all_lps)"
   ]
  },
  {
   "cell_type": "code",
   "execution_count": null,
   "metadata": {},
   "outputs": [],
   "source": [
    "plt.plot(t,y[-1],'r')\n",
    "plt.plot([0,10],[controller.target,controller.target],'k')\n",
    "plt.plot(tl,l/100,'b')\n",
    "plt.ylim([0,controller.target*2])\n",
    "plt.grid()"
   ]
  },
  {
   "cell_type": "code",
   "execution_count": null,
   "metadata": {},
   "outputs": [],
   "source": []
  },
  {
   "cell_type": "code",
   "execution_count": null,
   "metadata": {},
   "outputs": [],
   "source": []
  },
  {
   "cell_type": "code",
   "execution_count": 5,
   "metadata": {},
   "outputs": [],
   "source": [
    "from cytoreactors.control.MPC import DutyCycleController\n",
    "import cytoreactors.modeling.DIFF_model_growers_producers_V3_control_alive as model\n",
    "from cytoreactors.modeling.simulation import light_profile_to_traj\n",
    "from time import time\n",
    "import matplotlib.pyplot as plt"
   ]
  },
  {
   "cell_type": "code",
   "execution_count": 6,
   "metadata": {},
   "outputs": [],
   "source": [
    "pars = model.default_model_pars.copy()"
   ]
  },
  {
   "cell_type": "code",
   "execution_count": 9,
   "metadata": {},
   "outputs": [
    {
     "name": "stdout",
     "output_type": "stream",
     "text": [
      "1.219942331314087\n"
     ]
    }
   ],
   "source": [
    "controller = DutyCycleController(target=0.9, \n",
    "                                 model=model, \n",
    "                                 model_pars=pars,\n",
    "                                 initial_state=[1,0,0,0], \n",
    "                                 dc_period_hrs=0.5, \n",
    "                                 n_cycles_horizon=10)\n",
    "\n",
    "all_lps = []\n",
    "t0 = time()\n",
    "for i in range(1):\n",
    "    dcs = controller.optimize()\n",
    "    print(time()-t0)\n",
    "    t0= time()\n",
    "    lp = controller.dcs_to_light_profile(dcs)\n",
    "    all_lps += lp\n",
    "    t,y,_,_ = model.simulate(controller.model, controller.model_pars, lp, controller.current_state, n_evals=21)\n",
    "    controller.current_state = y.transpose()[-1]"
   ]
  },
  {
   "cell_type": "code",
   "execution_count": 11,
   "metadata": {},
   "outputs": [
    {
     "data": {
      "text/plain": [
       "<matplotlib.legend.Legend at 0x215f8d83108>"
      ]
     },
     "execution_count": 11,
     "metadata": {},
     "output_type": "execute_result"
    },
    {
     "data": {
      "image/png": "[encoded data removed]",
      "text/plain": [
       "<Figure size 432x288 with 1 Axes>"
      ]
     },
     "metadata": {
      "needs_background": "light"
     },
     "output_type": "display_data"
    }
   ],
   "source": [
    "t,y,_,_ = model.simulate(controller.model, controller.model_pars, all_lps, [1,0,0,0], n_evals=151)\n",
    "tl,l = light_profile_to_traj(all_lps)\n",
    "plt.plot(t,y[1]+y[2],'r', label='p + e')\n",
    "plt.plot(t,y[0],'g', label='g')\n",
    "plt.plot(t,y[1]/(1-y[3]),'m', label='p')\n",
    "plt.plot([0,t[-1]],[controller.target,controller.target],'k')\n",
    "plt.plot(tl,l/100,'b')\n",
    "plt.ylim([0,controller.target*2])\n",
    "plt.grid()\n",
    "plt.ylim([0,1.1])\n",
    "plt.legend()"
   ]
  },
  {
   "cell_type": "code",
   "execution_count": null,
   "metadata": {},
   "outputs": [],
   "source": []
  }
 ],
 "metadata": {
  "kernelspec": {
   "display_name": "Python 3",
   "language": "python",
   "name": "python3"
  },
  "language_info": {
   "codemirror_mode": {
    "name": "ipython",
    "version": 3
   },
   "file_extension": ".py",
   "mimetype": "text/x-python",
   "name": "python",
   "nbconvert_exporter": "python",
   "pygments_lexer": "ipython3",
   "version": "3.7.4"
  }
 },
 "nbformat": 4,
 "nbformat_minor": 4
}
