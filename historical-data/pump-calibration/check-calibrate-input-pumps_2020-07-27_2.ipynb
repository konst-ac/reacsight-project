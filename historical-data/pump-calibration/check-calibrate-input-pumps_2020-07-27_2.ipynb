{
 "cells": [
  {
   "cell_type": "code",
   "execution_count": 1,
   "metadata": {},
   "outputs": [],
   "source": [
    "# mapping pump and slots\n",
    "slot2pump = {}\n",
    "#\n",
    "slot2pump['L1'] = 'M3-1-1'\n",
    "slot2pump['L2'] = 'M3-2-1'\n",
    "slot2pump['L3'] = 'M3-3-1'\n",
    "slot2pump['L4'] = 'M3-4-1'\n",
    "#\n",
    "slot2pump['L5'] = 'M2-1-1'\n",
    "slot2pump['L6'] = 'M2-2-1'\n",
    "slot2pump['L7'] = 'M2-3-1'\n",
    "slot2pump['L8'] = 'M2-4-1'\n",
    "#\n",
    "slot2pump['L9'] = 'M1-1-1'\n",
    "slot2pump['L10'] = 'M1-2-1'\n",
    "slot2pump['L11'] = 'M1-3-1'\n",
    "slot2pump['L12'] = 'M1-4-1'\n",
    "#\n",
    "slot2pump['L13'] = 'M4-1-1'\n",
    "slot2pump['L14'] = 'M4-2-1'\n",
    "slot2pump['L15'] = 'M4-3-1'\n",
    "slot2pump['L16'] = 'M4-4-1'"
   ]
  },
  {
   "cell_type": "code",
   "execution_count": 2,
   "metadata": {},
   "outputs": [],
   "source": [
    "from cytoreactors.operate.api.manager import Manager\n",
    "import pandas as pd\n",
    "import datetime"
   ]
  },
  {
   "cell_type": "code",
   "execution_count": 3,
   "metadata": {},
   "outputs": [
    {
     "name": "stdout",
     "output_type": "stream",
     "text": [
      "Logging filepath = C:\\Users\\77Z14G2\\InbioReactors\\cytoreactors/logs/operation_2020-07-27_1595857959.log\n"
     ]
    }
   ],
   "source": [
    "# priming\n",
    "m = Manager()\n",
    "for i in range(1,17):\n",
    "    m.open_pump_for_duration(f'L{i}', 0)"
   ]
  },
  {
   "cell_type": "code",
   "execution_count": 4,
   "metadata": {},
   "outputs": [],
   "source": [
    "# position in measuring falcons\n",
    "duration_s = 150\n",
    "for i in range(1,17):\n",
    "    m.open_pump_for_duration(f'L{i}', 150)"
   ]
  },
  {
   "cell_type": "code",
   "execution_count": 7,
   "metadata": {},
   "outputs": [],
   "source": [
    "# write volumes\n",
    "slot2volume_mL = {}\n",
    "#\n",
    "slot2volume_mL['L1'] = 36\n",
    "slot2volume_mL['L2'] = 35\n",
    "slot2volume_mL['L3'] = 34\n",
    "slot2volume_mL['L4'] = 35\n",
    "#\n",
    "slot2volume_mL['L5'] = 32.5\n",
    "slot2volume_mL['L6'] = 33.5\n",
    "slot2volume_mL['L7'] = 32.5\n",
    "slot2volume_mL['L8'] = 37\n",
    "#\n",
    "slot2volume_mL['L9'] = 25\n",
    "slot2volume_mL['L10'] = 26\n",
    "slot2volume_mL['L11'] = 32\n",
    "slot2volume_mL['L12'] = 28\n",
    "#\n",
    "slot2volume_mL['L13'] = 32.5\n",
    "slot2volume_mL['L14'] = 32.5\n",
    "slot2volume_mL['L15'] = 29\n",
    "slot2volume_mL['L16'] = 31"
   ]
  },
  {
   "cell_type": "code",
   "execution_count": 8,
   "metadata": {},
   "outputs": [
    {
     "data": {
      "text/plain": [
       "153"
      ]
     },
     "execution_count": 8,
     "metadata": {},
     "output_type": "execute_result"
    }
   ],
   "source": [
    "real_duration = 8118-7965 #(cf log)\n",
    "real_duration"
   ]
  },
  {
   "cell_type": "code",
   "execution_count": 9,
   "metadata": {},
   "outputs": [
    {
     "name": "stdout",
     "output_type": "stream",
     "text": [
      "slot L1 - pump M3-1-1 - rate = 14.117647058823529\n",
      "slot L2 - pump M3-2-1 - rate = 13.72549019607843\n",
      "slot L3 - pump M3-3-1 - rate = 13.333333333333332\n",
      "slot L4 - pump M3-4-1 - rate = 13.72549019607843\n",
      "slot L5 - pump M2-1-1 - rate = 12.745098039215685\n",
      "slot L6 - pump M2-2-1 - rate = 13.137254901960784\n",
      "slot L7 - pump M2-3-1 - rate = 12.745098039215685\n",
      "slot L8 - pump M2-4-1 - rate = 14.509803921568627\n",
      "slot L9 - pump M1-1-1 - rate = 9.803921568627452\n",
      "slot L10 - pump M1-2-1 - rate = 10.19607843137255\n",
      "slot L11 - pump M1-3-1 - rate = 12.549019607843137\n",
      "slot L12 - pump M1-4-1 - rate = 10.980392156862745\n",
      "slot L13 - pump M4-1-1 - rate = 12.745098039215685\n",
      "slot L14 - pump M4-2-1 - rate = 12.745098039215685\n",
      "slot L15 - pump M4-3-1 - rate = 11.372549019607842\n",
      "slot L16 - pump M4-4-1 - rate = 12.156862745098039\n"
     ]
    }
   ],
   "source": [
    "for slot in slot2pump:\n",
    "    flow_rate_mL_min = slot2volume_mL[slot] / real_duration * 60\n",
    "    print(f'slot {slot} - pump {slot2pump[slot]} - rate = {flow_rate_mL_min}')"
   ]
  },
  {
   "cell_type": "code",
   "execution_count": null,
   "metadata": {},
   "outputs": [],
   "source": []
  }
 ],
 "metadata": {
  "kernelspec": {
   "display_name": "Python 3",
   "language": "python",
   "name": "python3"
  },
  "language_info": {
   "codemirror_mode": {
    "name": "ipython",
    "version": 3
   },
   "file_extension": ".py",
   "mimetype": "text/x-python",
   "name": "python",
   "nbconvert_exporter": "python",
   "pygments_lexer": "ipython3",
   "version": "3.7.7"
  }
 },
 "nbformat": 4,
 "nbformat_minor": 4
}
