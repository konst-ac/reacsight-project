{
 "cells": [
  {
   "cell_type": "code",
   "execution_count": 3,
   "metadata": {},
   "outputs": [],
   "source": [
    "from cytoreactors.operate.api.manager import Manager\n",
    "from time import time"
   ]
  },
  {
   "cell_type": "code",
   "execution_count": 2,
   "metadata": {},
   "outputs": [
    {
     "name": "stdout",
     "output_type": "stream",
     "text": [
      "Logging filepath = C:\\Users\\77Z14G2\\InbioReactors\\cytoreactors/logs/operation_2020-07-28_1595923836.log\n"
     ]
    }
   ],
   "source": [
    "m = Manager()"
   ]
  },
  {
   "cell_type": "code",
   "execution_count": 16,
   "metadata": {},
   "outputs": [],
   "source": [
    "results = {}"
   ]
  },
  {
   "cell_type": "code",
   "execution_count": 51,
   "metadata": {},
   "outputs": [],
   "source": [
    "rid = 8"
   ]
  },
  {
   "cell_type": "code",
   "execution_count": 52,
   "metadata": {},
   "outputs": [],
   "source": [
    "m.set_pump_state(f'H{rid}', True)\n",
    "ton = time()"
   ]
  },
  {
   "cell_type": "code",
   "execution_count": 53,
   "metadata": {},
   "outputs": [],
   "source": [
    "m.set_pump_state(f'H{rid}', False)\n",
    "toff = time()"
   ]
  },
  {
   "cell_type": "code",
   "execution_count": 55,
   "metadata": {},
   "outputs": [
    {
     "data": {
      "text/plain": [
       "{'delta_t_seconds': 19.241214513778687,\n",
       " 'dead_volume_mL': 3.4,\n",
       " 'flow_rate_mL_min': 10.602241342609378}"
      ]
     },
     "execution_count": 55,
     "metadata": {},
     "output_type": "execute_result"
    }
   ],
   "source": [
    "delta_V = 3.4\n",
    "results[rid] = {'delta_t_seconds':toff-ton, \n",
    "                'flow_rate_mL_min':delta_V/(toff-ton)*60}\n",
    "results[rid]"
   ]
  },
  {
   "cell_type": "code",
   "execution_count": 56,
   "metadata": {},
   "outputs": [
    {
     "data": {
      "text/plain": [
       "<Timer(Thread-17, started 1628)>"
      ]
     },
     "execution_count": 56,
     "metadata": {},
     "output_type": "execute_result"
    }
   ],
   "source": [
    "m.open_pump_for_duration(f'H{rid}', results[rid]['delta_t_seconds']*1.25)"
   ]
  },
  {
   "cell_type": "code",
   "execution_count": 57,
   "metadata": {},
   "outputs": [
    {
     "data": {
      "text/plain": [
       "{1: {'delta_t_seconds': 18.7262122631073,\n",
       "  'dead_volume_mL': 3.4,\n",
       "  'flow_rate_mL_min': 10.89382076491264},\n",
       " 2: {'delta_t_seconds': 15.663175344467163,\n",
       "  'dead_volume_mL': 3.4,\n",
       "  'flow_rate_mL_min': 13.024179038643059},\n",
       " 3: {'delta_t_seconds': 18.923211574554443,\n",
       "  'dead_volume_mL': 3.5,\n",
       "  'flow_rate_mL_min': 11.097482008940892},\n",
       " 4: {'delta_t_seconds': 18.410205364227295,\n",
       "  'dead_volume_mL': 3.4,\n",
       "  'flow_rate_mL_min': 11.080810667999966},\n",
       " 5: {'delta_t_seconds': 18.491206645965576,\n",
       "  'dead_volume_mL': 3.4,\n",
       "  'flow_rate_mL_min': 11.032270846668021},\n",
       " 6: {'delta_t_seconds': 17.868200063705444,\n",
       "  'dead_volume_mL': 3.5,\n",
       "  'flow_rate_mL_min': 11.752722672193482},\n",
       " 7: {'delta_t_seconds': 17.5812087059021,\n",
       "  'dead_volume_mL': 3.5,\n",
       "  'flow_rate_mL_min': 11.944571247226135},\n",
       " 8: {'delta_t_seconds': 19.241214513778687,\n",
       "  'dead_volume_mL': 3.4,\n",
       "  'flow_rate_mL_min': 10.602241342609378}}"
      ]
     },
     "execution_count": 57,
     "metadata": {},
     "output_type": "execute_result"
    }
   ],
   "source": [
    "results"
   ]
  },
  {
   "cell_type": "code",
   "execution_count": 58,
   "metadata": {},
   "outputs": [],
   "source": [
    "output_pump_flow_rates = {}\n",
    "for i in range(1,9):\n",
    "    output_pump_flow_rates[f'H{i}-1'] = results[i]['flow_rate_mL_min']"
   ]
  },
  {
   "cell_type": "code",
   "execution_count": 61,
   "metadata": {},
   "outputs": [],
   "source": [
    "output_pump_flow_rates.update({'H4':5})"
   ]
  },
  {
   "cell_type": "code",
   "execution_count": 62,
   "metadata": {},
   "outputs": [
    {
     "data": {
      "text/plain": [
       "{'H1-1': 10.89382076491264,\n",
       " 'H2-1': 13.024179038643059,\n",
       " 'H3-1': 11.097482008940892,\n",
       " 'H4-1': 11.080810667999966,\n",
       " 'H5-1': 11.032270846668021,\n",
       " 'H6-1': 11.752722672193482,\n",
       " 'H7-1': 11.944571247226135,\n",
       " 'H8-1': 10.602241342609378,\n",
       " 'H4': 5}"
      ]
     },
     "execution_count": 62,
     "metadata": {},
     "output_type": "execute_result"
    }
   ],
   "source": [
    "output_pump_flow_rates"
   ]
  },
  {
   "cell_type": "code",
   "execution_count": null,
   "metadata": {},
   "outputs": [],
   "source": [
    "m.get_turbidity_readings([3],apply_calibration=True)"
   ]
  },
  {
   "cell_type": "code",
   "execution_count": null,
   "metadata": {},
   "outputs": [],
   "source": [
    "for i in range(1,17):\n",
    "    m.set_valve_state(f'F{i}', True)"
   ]
  },
  {
   "cell_type": "code",
   "execution_count": null,
   "metadata": {},
   "outputs": [],
   "source": [
    "for i in [12,13]:\n",
    "    m.open_pump_for_duration(f'H{i}', 40)"
   ]
  },
  {
   "cell_type": "code",
   "execution_count": null,
   "metadata": {},
   "outputs": [],
   "source": [
    "for i in range(1,17):\n",
    "    m.set_pump_state(f'L{i}', False)"
   ]
  },
  {
   "cell_type": "code",
   "execution_count": null,
   "metadata": {},
   "outputs": [],
   "source": [
    "for i in range(1,17):\n",
    "    m.set_pump_state(f'H{i}', True)"
   ]
  },
  {
   "cell_type": "code",
   "execution_count": null,
   "metadata": {},
   "outputs": [],
   "source": [
    "m.shut_off_all_pumps_and_valves()"
   ]
  },
  {
   "cell_type": "code",
   "execution_count": null,
   "metadata": {},
   "outputs": [],
   "source": [
    " m.set_valve_state(f'F12', True)"
   ]
  },
  {
   "cell_type": "code",
   "execution_count": null,
   "metadata": {},
   "outputs": [],
   "source": [
    "m.set_pump_state(f'H13', False)"
   ]
  },
  {
   "cell_type": "code",
   "execution_count": null,
   "metadata": {},
   "outputs": [],
   "source": [
    "import pandas as pd\n",
    "import datetime"
   ]
  },
  {
   "cell_type": "code",
   "execution_count": null,
   "metadata": {},
   "outputs": [],
   "source": [
    "prev_df = pd.read_csv('cytoreactors/calibration/pump_calibration_data.csv')\n",
    "pump_id = [37]\n",
    "date = [datetime.date.today()]*len(pump_id)\n",
    "duration_open_seconds = [120]*len(pump_id)\n",
    "measured_volume_mL = [27.5]\n",
    "pump_slot_id = [f'L{rid}' for rid in [15]]\n",
    "number_pumps_load = [len(pump_id)]*len(pump_id)\n",
    "\n",
    "df = pd.DataFrame.from_dict({'pump_id':pump_id, 'date':date, 'pump_slot_id':pump_slot_id,\n",
    "                             'duration_open_seconds':duration_open_seconds,\n",
    "                             'measured_volume_mL':measured_volume_mL,\n",
    "                             'number_pumps_load':number_pumps_load})\n",
    "df['estimate_pump_uL_per_second'] = df['measured_volume_mL'] / df['duration_open_seconds'] * 1000\n",
    "new_df = pd.concat([prev_df, df], ignore_index=True)\n",
    "new_df.to_csv('cytoreactors/calibration/pump_calibration_data.csv', index=False)\n",
    "new_df.iloc[-len(pump_id):]"
   ]
  },
  {
   "cell_type": "code",
   "execution_count": null,
   "metadata": {},
   "outputs": [],
   "source": []
  },
  {
   "cell_type": "code",
   "execution_count": null,
   "metadata": {},
   "outputs": [],
   "source": []
  },
  {
   "cell_type": "code",
   "execution_count": null,
   "metadata": {},
   "outputs": [],
   "source": []
  },
  {
   "cell_type": "code",
   "execution_count": null,
   "metadata": {},
   "outputs": [],
   "source": []
  },
  {
   "cell_type": "code",
   "execution_count": null,
   "metadata": {},
   "outputs": [],
   "source": [
    "m.stop()"
   ]
  },
  {
   "cell_type": "code",
   "execution_count": null,
   "metadata": {},
   "outputs": [],
   "source": [
    "for rid in range(1,17):\n",
    "    m.set_leds_intensity(rid, 50)"
   ]
  },
  {
   "cell_type": "code",
   "execution_count": null,
   "metadata": {},
   "outputs": [],
   "source": [
    "m.shut_off_all_LEDs()"
   ]
  },
  {
   "cell_type": "code",
   "execution_count": null,
   "metadata": {},
   "outputs": [],
   "source": [
    "for i in range(1,17):\n",
    "    m.set_leds_duty_cycle(i, 50, 160, (i-1) / 15., 10000)"
   ]
  },
  {
   "cell_type": "code",
   "execution_count": null,
   "metadata": {},
   "outputs": [],
   "source": [
    "m.shut_off_all_LEDs()"
   ]
  },
  {
   "cell_type": "code",
   "execution_count": null,
   "metadata": {},
   "outputs": [],
   "source": [
    "m.get_leds_history(3,1592422960.854158)"
   ]
  },
  {
   "cell_type": "code",
   "execution_count": null,
   "metadata": {},
   "outputs": [],
   "source": [
    "changes = sorted([(float(ch_str.split('@')[0]),int(ch_str.split('@')[1])) for ch_str in s.split('_')[1:]],\n",
    "                 key=lambda x: x[0])\n",
    "changes"
   ]
  },
  {
   "cell_type": "code",
   "execution_count": null,
   "metadata": {},
   "outputs": [],
   "source": []
  },
  {
   "cell_type": "code",
   "execution_count": null,
   "metadata": {},
   "outputs": [],
   "source": [
    "d = Device()"
   ]
  },
  {
   "cell_type": "code",
   "execution_count": null,
   "metadata": {},
   "outputs": [],
   "source": [
    "d.send_led_command(15,0)"
   ]
  },
  {
   "cell_type": "code",
   "execution_count": null,
   "metadata": {},
   "outputs": [],
   "source": [
    "d.ot2_request('tips/return')"
   ]
  },
  {
   "cell_type": "code",
   "execution_count": null,
   "metadata": {},
   "outputs": [],
   "source": [
    "d.ot2_request('tips/pick_up')"
   ]
  },
  {
   "cell_type": "code",
   "execution_count": null,
   "metadata": {},
   "outputs": [],
   "source": [
    "d.ot2_request('move_to/cytoplate/1')"
   ]
  },
  {
   "cell_type": "code",
   "execution_count": null,
   "metadata": {},
   "outputs": [],
   "source": [
    "d.guava_request('toggle_tray')"
   ]
  },
  {
   "cell_type": "code",
   "execution_count": null,
   "metadata": {},
   "outputs": [],
   "source": [
    "for v in ['B1','B2','B3','B4']:\n",
    "    d.send_valve_command(v,False)"
   ]
  },
  {
   "cell_type": "code",
   "execution_count": null,
   "metadata": {},
   "outputs": [],
   "source": [
    "for rid in range(16):\n",
    "    d.send_led_command(rid,0)"
   ]
  },
  {
   "cell_type": "code",
   "execution_count": null,
   "metadata": {},
   "outputs": [],
   "source": [
    "d.close()"
   ]
  },
  {
   "cell_type": "code",
   "execution_count": null,
   "metadata": {},
   "outputs": [],
   "source": [
    "d.disconnect()"
   ]
  },
  {
   "cell_type": "code",
   "execution_count": null,
   "metadata": {},
   "outputs": [],
   "source": [
    "from cytoreactors.operate.api.manager import Manager\n",
    "from time import time, sleep"
   ]
  },
  {
   "cell_type": "code",
   "execution_count": null,
   "metadata": {},
   "outputs": [],
   "source": [
    "m = Manager()"
   ]
  },
  {
   "cell_type": "code",
   "execution_count": null,
   "metadata": {},
   "outputs": [],
   "source": [
    "m._leds_schedules[13][time()] = 0"
   ]
  },
  {
   "cell_type": "code",
   "execution_count": null,
   "metadata": {},
   "outputs": [],
   "source": [
    "m._leds_changes_to_register[13]"
   ]
  },
  {
   "cell_type": "code",
   "execution_count": null,
   "metadata": {},
   "outputs": [],
   "source": [
    "m.shut_off_all_LEDs()"
   ]
  },
  {
   "cell_type": "code",
   "execution_count": null,
   "metadata": {},
   "outputs": [],
   "source": [
    "m.stop()"
   ]
  },
  {
   "cell_type": "code",
   "execution_count": null,
   "metadata": {},
   "outputs": [],
   "source": []
  }
 ],
 "metadata": {
  "kernelspec": {
   "display_name": "Python 3",
   "language": "python",
   "name": "python3"
  },
  "language_info": {
   "codemirror_mode": {
    "name": "ipython",
    "version": 3
   },
   "file_extension": ".py",
   "mimetype": "text/x-python",
   "name": "python",
   "nbconvert_exporter": "python",
   "pygments_lexer": "ipython3",
   "version": "3.7.7"
  }
 },
 "nbformat": 4,
 "nbformat_minor": 2
}
