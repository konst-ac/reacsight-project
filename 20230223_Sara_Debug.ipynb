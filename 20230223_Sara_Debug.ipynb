{
 "cells": [
  {
   "cell_type": "code",
   "execution_count": 1,
   "metadata": {},
   "outputs": [],
   "source": [
    "from cytoreactors.operate import operate\n",
    "from cytoreactors.design.program import TurbidostatProgram, GrowDiluteProgram, Preculture\n",
    "from cytoreactors.design.events import Event\n",
    "from matplotlib import pyplot as plt\n",
    "from time import sleep, time\n",
    "from datetime import date\n",
    "from threading import Timer\n",
    "import pandas as pd\n",
    "import numpy as np\n",
    "import os"
   ]
  },
  {
   "cell_type": "markdown",
   "metadata": {},
   "source": [
    "## Experiments notes\n",
    "\n",
    "* ..."
   ]
  },
  {
   "cell_type": "markdown",
   "metadata": {},
   "source": [
    "## Hardware checklist\n",
    "\n",
    "### Temperature control\n",
    "\n",
    "* **circulation pump**: should be plugged AND working. If ON but not working, unplug, aspirate from eand of circuit to prime the circuit using syringe, and plug again\n",
    "\n",
    "* **water bath heating**: just turn on via the power button on the back. normally no need to use any of the face button. check the set temp is 31.7 AND that the water bath is heating. if there is only one temperature displayed IT IS NOT ON. In that case press the on button on the face panel \n",
    "\n",
    "### Aeration\n",
    "\n",
    "* check or put the air input pressure around the arrow\n",
    "\n",
    "* check if the air input line is not disconnected at the level of the big filter or before\n",
    "\n",
    "### Reactor machine\n",
    "\n",
    "* check that it is on: red LED on the right ?\n",
    "\n",
    "* if off, the switch is located on the back, left side, bottom\n",
    "\n",
    "### LEDs control\n",
    "\n",
    "* test that the LED service is on: http://localhost:5000 (should give hello message)\n",
    "* **IF NOT RESTART OF ONGOING PROGRAMS**\n",
    "    - test that works: \n",
    "         + http://localhost:5000/turn_on_all/50\n",
    "         + http://localhost:5000/turn_off_all\n",
    "    - reset history of the service: http://localhost:5000/reset_history\n",
    "* if restart, do nothing, in order to keep the history of the service and the ongoing duty cycling\n",
    "      \n",
    "\n",
    "### Robot and cytometer\n",
    "\n",
    "* clean guava, with empty round-bottom plate + tubes as for acquisition (start worklist and cancel to know which tubes), screen on main acquisition window\n",
    "\n",
    "* check the guava app working: http://157.99.244.170:5000/start_atlas_service should return 'Atlas service already running'\n",
    "\n",
    "* check the guava clicking is working: http://157.99.244.170:5000/prepare/A12_B12/5000 should create the acquisition  worklist and start to run it until the tray is opening. Then click cancel and load the tray\n",
    "\n",
    "* robot physical setup: new tips on the two boxes, clean full 12-row through, two empty round-bottom plates for sampling (super careful with positioning, ask Francois or Achille first), collector for tips liquid at the right of funnel, put some bleach via waste funnel to remove clogs in case. NO TIPS ON THE ARM.\n",
    "\n",
    "* robot software setup\n",
    "     - if flask app is running and there is tips on the pipette, drop them: ( **dont click if physical setup not good !**): http://169.254.6.20:5000/tips/drop\n",
    "     - new exp if new exp or you renewed tip boxes, restart the flask app (see below). REMOVE TIPS MANUALLY IF THERE ARE LEFT ON PIPETTE\n",
    "     - you can check that the robot app works by telling him to go the bin : http://169.254.6.20:5000/gotobin\n",
    "\n",
    "* To restart the robot flask app:\n",
    "     - go the the robot jupyter notebook server: http://169.254.56.89:48888/tree?\n",
    "     - in the tab running check the terminals, normally should be one (or zero if you had to restart the robot)\n",
    "     - if no terminal: \n",
    "          + create one, enter `cd /var/lib/jupyter/notebooks`, \n",
    "          + IMPORTANT FOR THE LOGs: enter the date via entering `date -s \"2020-10-09 10:30\"` WITH TWO HOURS LESS THAN REAL TIME BECAUSE UTC !\n",
    "          + start the app: sh start_app.sh\n",
    "     - if terminal:\n",
    "          + ctrl+C to kill current process\n",
    "          + type `date` to check the date, change if needed\n",
    "          + start the app: sh start_app.sh\n",
    "\n",
    "### Vessels and connections\n",
    "\n",
    "* **GOOD ORIENTATION OF EACH VESSEL !!!! the vessel number should face you. critical for OD. Also, is the bubbling metal tube align with the mark on the glass vessel ?????**\n",
    "\n",
    "* tape-secured drain tubing in pinch-valves\n",
    "\n",
    "* check height of metal tubing in vessels using the marking standard metal tube\n",
    "\n",
    "* no tubing too much on tension? happens often for media tubing\n",
    "\n",
    "### Waste tank\n",
    "\n",
    "* check waste tank is empty enough, otherwise change\n"
   ]
  },
  {
   "cell_type": "markdown",
   "metadata": {},
   "source": [
    "## Defining the experiment configuration"
   ]
  },
  {
   "cell_type": "code",
   "execution_count": 2,
   "metadata": {},
   "outputs": [],
   "source": [
    "# define the strains\n",
    "precult_1 = Preculture(strain_id='IB20337 & IB20175',\n",
    "                          media='SC LoFlo 2% glucose + 5mM Arginine',\n",
    "                          strain_name='Sensor & PL_Nanobodies')"
   ]
  },
  {
   "cell_type": "code",
   "execution_count": 3,
   "metadata": {},
   "outputs": [],
   "source": [
    "# create the programs\n",
    "programs = {}\n",
    "\n",
    "for rid in [1,2,3,4,5,6,7,8]:    \n",
    "    programs[rid] = TurbidostatProgram(\n",
    "        user = 'Sara',\n",
    "        campaign = 'Debug',\n",
    "        short_name = 'FlaskApp_3',\n",
    "        description = 'Clicking software got crazy',\n",
    "        reactor_id = rid,\n",
    "        preculture = precult_1,\n",
    "        media = 'SC LoFlo 2% glucose + 5mM Arginine',\n",
    "        position_drain_output_mL = 20, # or 30 \n",
    "        OD_setpoint=0.5,\n",
    "        vessel_id=0, # can be useful ! replace by real id\n",
    "        blank=None, # write a value only if absolutely necessary\n",
    "        creation_date_shift=1) # change to 1 or 2 if restart of experiment done before than today"
   ]
  },
  {
   "cell_type": "markdown",
   "metadata": {},
   "source": [
    "**CAREFUL: if doing a restart, you should have a confirmation dialog for each reactor at the step above**. If this not the case and it should, you probably did not set the *creation_date_shift* to 1 or 2 if restarting an experiment start 1 or 2 days earlier. If this happens please delete the useless folders on ATLAS."
   ]
  },
  {
   "cell_type": "markdown",
   "metadata": {},
   "source": [
    "## Starting a session"
   ]
  },
  {
   "cell_type": "markdown",
   "metadata": {},
   "source": [
    "The next cell creates a bioreactor session, i.e. establish connections to hardware and starting a log."
   ]
  },
  {
   "cell_type": "code",
   "execution_count": 4,
   "metadata": {},
   "outputs": [
    {
     "name": "stdout",
     "output_type": "stream",
     "text": [
      "Logging filepath = C:\\Users\\77Z14G2\\InbioReactors\\cytoreactors/logs/operation_2023-02-23_1677149779.log\n",
      "created\n"
     ]
    }
   ],
   "source": [
    "#to say if you use the robot or not (fake_OT2) and if automation with beads\n",
    "operate.session_created = False\n",
    "session = operate.Session(fake_OT2=False, automated_beads = False)\n",
    "print(session.status)"
   ]
  },
  {
   "cell_type": "code",
   "execution_count": null,
   "metadata": {},
   "outputs": [],
   "source": [
    "# OPTIONAL ! ACTIVATE NO SAMPLING AT LOW VOLUME SAFETY\n",
    "# WARNING: if weird vessel design (reservoir etc) the volume estimation will be wrong and this will cause issues\n",
    "session.low_volume_no_sampling_safety = True"
   ]
  },
  {
   "cell_type": "markdown",
   "metadata": {},
   "source": [
    "A session should be loaded with `Programs`, with one program per reactor.\n",
    "\n",
    "This is done in the next cell."
   ]
  },
  {
   "cell_type": "code",
   "execution_count": 5,
   "metadata": {},
   "outputs": [],
   "source": [
    "#to load the program\n",
    "for program in programs.values():\n",
    "    session.add_program(program)"
   ]
  },
  {
   "cell_type": "markdown",
   "metadata": {},
   "source": [
    "Note that we haven't started the session yet, so no main loop is running."
   ]
  },
  {
   "cell_type": "markdown",
   "metadata": {},
   "source": [
    "## Vessel setup"
   ]
  },
  {
   "cell_type": "code",
   "execution_count": 12,
   "metadata": {
    "scrolled": true
   },
   "outputs": [],
   "source": [
    "session.pinch_drain_valves()"
   ]
  },
  {
   "cell_type": "code",
   "execution_count": 11,
   "metadata": {},
   "outputs": [],
   "source": [
    "session.unpinch_drain_valves()"
   ]
  },
  {
   "cell_type": "markdown",
   "metadata": {},
   "source": [
    "## Pump registration"
   ]
  },
  {
   "cell_type": "markdown",
   "metadata": {},
   "source": [
    "Define all pumps id is needed to use pump-specific flow rate from calibration data !"
   ]
  },
  {
   "cell_type": "code",
   "execution_count": 6,
   "metadata": {},
   "outputs": [],
   "source": [
    "# input pumps\n",
    "session.manager.input_pumps[1] = 'M1-3-2'\n",
    "session.manager.input_pumps[2] = 'M3-1-1'\n",
    "session.manager.input_pumps[3] = 'M6-1-2'\n",
    "session.manager.input_pumps[4] = 'M4-3-1'\n",
    "# output pumps\n",
    "session.manager.output_pumps[1] = 'H1'\n",
    "session.manager.output_pumps[2] = 'H2'\n",
    "session.manager.output_pumps[3] = 'H3'\n",
    "session.manager.output_pumps[4] = 'H4'"
   ]
  },
  {
   "cell_type": "code",
   "execution_count": 7,
   "metadata": {},
   "outputs": [],
   "source": [
    "# input pumps\n",
    "session.manager.input_pumps[5] = 'M4-2-3'\n",
    "session.manager.input_pumps[6] = 'M4-1-1'\n",
    "session.manager.input_pumps[7] = 'M6-2-2'\n",
    "session.manager.input_pumps[8] = 'M4-4-1'\n",
    "# output pumps\n",
    "session.manager.output_pumps[5] = 'H5'\n",
    "session.manager.output_pumps[6] = 'H6'\n",
    "session.manager.output_pumps[7] = 'H7'\n",
    "session.manager.output_pumps[8] = 'H8'"
   ]
  },
  {
   "cell_type": "markdown",
   "metadata": {},
   "source": [
    "## Testing bubbling and stop of bubbling  "
   ]
  },
  {
   "cell_type": "code",
   "execution_count": 13,
   "metadata": {},
   "outputs": [],
   "source": [
    "for valve_id in ['B1','B2','B3','B4']:\n",
    "    session.manager.open_valve_for_duration(valve_id,10)\n",
    "sleep(10)"
   ]
  },
  {
   "cell_type": "markdown",
   "metadata": {},
   "source": [
    "## Priming pumps, adding media\n",
    "\n",
    "When physically setting up vessels, there is no media in the vessels, and the tubing lines feeding vessel with media are filled with air.\n",
    "\n",
    "Priming pumps is needed to establish liquid into the media feed lines.\n",
    "\n",
    "**please use this opportunity to flag problems with the media lines !**"
   ]
  },
  {
   "cell_type": "code",
   "execution_count": 14,
   "metadata": {},
   "outputs": [
    {
     "name": "stdout",
     "output_type": "stream",
     "text": [
      "Priming of pumps with liquid. Make sure pump output is setup as desired. Enter y to flow for 6.000000 seconds, otherwise ok\n",
      "y\n",
      "Priming of pumps with liquid. Make sure pump output is setup as desired. Enter y to flow for 6.000000 seconds, otherwise ok\n",
      "ok\n"
     ]
    }
   ],
   "source": [
    "#to put a bit of media in the vessels\n",
    "session.prime_input_pumps()"
   ]
  },
  {
   "cell_type": "markdown",
   "metadata": {},
   "source": [
    "The priming has left some media in the vessels, plus usuqlly some water after autoclaving, so better to remove it.\n",
    "\n",
    "Assuming sampling tubing is to the bottom, we will open them."
   ]
  },
  {
   "cell_type": "code",
   "execution_count": null,
   "metadata": {},
   "outputs": [],
   "source": [
    "# safety !\n",
    "session.manager.send_ot2_request('gotobin')"
   ]
  },
  {
   "cell_type": "code",
   "execution_count": 15,
   "metadata": {},
   "outputs": [],
   "source": [
    "session.pinch_drain_valves()\n",
    "session.start_output_flow()"
   ]
  },
  {
   "cell_type": "code",
   "execution_count": 16,
   "metadata": {},
   "outputs": [],
   "source": [
    "session.stop_output_flow()\n",
    "session.unpinch_drain_valves()"
   ]
  },
  {
   "cell_type": "markdown",
   "metadata": {},
   "source": [
    "Use the standard stick for setting drain tube height (20 or 30 mL).\n",
    "\n",
    "**Use the standard stick for setting sampling tube height back up**\n",
    "\n",
    "Then adapt desired vol below and add media by running the cell."
   ]
  },
  {
   "cell_type": "code",
   "execution_count": null,
   "metadata": {},
   "outputs": [],
   "source": [
    "# this work only for same volume in all vessels for now...\n",
    "volume_vessel_mL = list(session.programs.values())[0].start_volume_mL\n",
    "session.add_media(volume_mL=volume_vessel_mL)"
   ]
  },
  {
   "cell_type": "markdown",
   "metadata": {},
   "source": [
    "Now we can start the session.\n",
    "\n",
    "It will loop (OD measurements mainly).\n",
    "\n",
    "The first readings will be considered as blank, so **don't inoculate before blank is finished.**\n",
    "\n",
    "You will know when blanking is finished by **running the OD plotting cell** (see below): if the plot is empty, it means blanking phase not finished.\n",
    "\n",
    "Note that the plots don't update themselves, you have to re-execute the cell."
   ]
  },
  {
   "cell_type": "markdown",
   "metadata": {},
   "source": [
    "## Starting the session"
   ]
  },
  {
   "cell_type": "code",
   "execution_count": 17,
   "metadata": {},
   "outputs": [
    {
     "name": "stdout",
     "output_type": "stream",
     "text": [
      "Starting !\n"
     ]
    },
    {
     "data": {
      "text/plain": [
       "'running'"
      ]
     },
     "execution_count": 17,
     "metadata": {},
     "output_type": "execute_result"
    }
   ],
   "source": [
    "session.start()\n",
    "session.status"
   ]
  },
  {
   "cell_type": "code",
   "execution_count": null,
   "metadata": {},
   "outputs": [],
   "source": [
    "session.status"
   ]
  },
  {
   "cell_type": "markdown",
   "metadata": {},
   "source": [
    "## Defining events"
   ]
  },
  {
   "cell_type": "code",
   "execution_count": null,
   "metadata": {},
   "outputs": [],
   "source": [
    "## removing existing events in case\n",
    "for program in session.programs.values():\n",
    "    program.events = []"
   ]
  },
  {
   "cell_type": "code",
   "execution_count": null,
   "metadata": {},
   "outputs": [],
   "source": [
    "from cytoreactors.control.MPC import trigger_new_cyto_data\n",
    "import logging\n",
    "\n",
    "def action_UPR_ramp_feedback(program, pars, state):\n",
    "    # extract last cytometer data\n",
    "    last_tp = state['current_tp']\n",
    "    data_last_tp = program.cells[program.cells['time_s'] == last_tp].copy()\n",
    "    \n",
    "    # Process data befor event check\n",
    "    # Apply corrections\n",
    "    correction_coef_ORG_G = 1.35\n",
    "    \n",
    "    data_last_tp['ORG-G_norm'] = data_last_tp['ORG-G-HLin'] * correction_coef_ORG_G    \n",
    "            \n",
    "    # Gate by size\n",
    "    data_last_tp_gated_size = data_last_tp[(data_last_tp['FSC-HLin'] > 2*10**3) & \\\n",
    "                                   (data_last_tp['FSC-HLin'] < 3*10**3)].copy()\n",
    "    \n",
    "    # Normalize to size\n",
    "    data_last_tp_gated_size['GRN-V/FSC'] = data_last_tp_gated_size['GRN-V-HLin']/data_last_tp_gated_size['FSC-HLin']\n",
    "    data_last_tp_gated_size['ORG-G/FSC'] = data_last_tp_gated_size['ORG-G_norm']/data_last_tp_gated_size['FSC-HLin']\n",
    "    \n",
    "    # Gate from sensor\n",
    "    data_last_tp_gated_from_sensor = data_last_tp_gated_size[data_last_tp_gated_size['GRN-V/FSC'] < 0.05].copy()\n",
    "    \n",
    "    # compute the UPR metric\n",
    "    UPR_level = data_last_tp_gated_from_sensor['ORG-G/FSC'].mean()\n",
    "    \n",
    "    # changing light based on value\n",
    "    # should we increase the duty cycle ?\n",
    "    if UPR_level < pars['threshold']:\n",
    "        state['current_dc'] += pars['DC'] \n",
    "        if state['current_dc'] > 1:\n",
    "            state['current_dc'] = 1\n",
    "    # should we decrease the duty cycle ?\n",
    "    if UPR_level > pars['threshold']:\n",
    "        state['current_dc'] -= pars['DC'] \n",
    "        if state['current_dc'] < 0:\n",
    "            state['current_dc'] = 0\n",
    "            \n",
    "    logging.info('T= {}| UPR feedback control reactor {}: UPR level = {}, new dc = {}'.format(time(),program.reactor_id,UPR_level,state['current_dc']))\n",
    "    \n",
    "    # apply current dc\n",
    "    # start_LED_duty_cycle(intensity, period_s, fraction, n_cycles)\n",
    "    program.start_LED_duty_cycle(20, 45*60, state['current_dc'], 2000)\n",
    "    \n",
    "    # update event state\n",
    "    state['last_change_tp'] = state['current_tp']"
   ]
  },
  {
   "cell_type": "code",
   "execution_count": null,
   "metadata": {},
   "outputs": [],
   "source": [
    " # different windows of UPR\n",
    "targets_UPR_windows_and_DC = {1:(0.13,0.1), 2:(0.13,0.1), 3:(0.15,0.1), 4:(0.15,0.1), 5:(0.17,0.1), 6:(0.17,0.1), 7:(1,1), 8:(1,1)}"
   ]
  },
  {
   "cell_type": "code",
   "execution_count": null,
   "metadata": {},
   "outputs": [],
   "source": [
    "for rid in [1, 2, 3, 4, 5, 6, 7, 8]:\n",
    "    thresh, DC = targets_UPR_windows_and_DC[rid]\n",
    "    event_UPR = Event(trigger=trigger_new_cyto_data,\n",
    "                      action=action_UPR_ramp_feedback,\n",
    "                      state={'last_change_tp':0, 'current_tp':0, 'current_dc':0.},\n",
    "                      pars={'threshold':thresh, 'DC':DC})\n",
    "    session.programs[rid].events.append(event_UPR)"
   ]
  },
  {
   "cell_type": "markdown",
   "metadata": {},
   "source": [
    "## Inspecting program data\n",
    "\n",
    "The main loop is living in a thread, so you can live-inspect program data in this notebook.\n",
    "\n",
    "* The first cell below is plotting blanks measurements, \n",
    "* the two after the OD measurements (what comes after the blank is done)\n",
    "\n",
    "Execute those cells as many times as you wish."
   ]
  },
  {
   "cell_type": "code",
   "execution_count": null,
   "metadata": {},
   "outputs": [],
   "source": [
    "# reset blanks\n",
    "for program in programs.values():\n",
    "    program.blank = None\n",
    "    program.blanks = {'time_s':[], 'blank_OD':[]}"
   ]
  },
  {
   "cell_type": "code",
   "execution_count": null,
   "metadata": {},
   "outputs": [],
   "source": [
    "# extract data as dataframe for each reactor\n",
    "dfs = {prog.reactor_id:prog.data_to_df('blanks') for prog in session.programs.values()}\n",
    "# loop on reactors\n",
    "plt.figure(figsize=(16,8))\n",
    "for rid,df in dfs.items():\n",
    "    color = plt.cm.jet(np.linspace(0,1,16))[rid-1]\n",
    "    if not df.empty:\n",
    "        plt.plot((df['time_s']-df['time_s'][0])/3600., df['blank_OD'],'-o',color=color)\n",
    "    else:\n",
    "        print('No data yet')\n",
    "        break\n",
    "    # styling\n",
    "plt.legend(dfs.keys())\n",
    "plt.xlabel('Time (hrs)')\n",
    "plt.ylabel('single blank measure')\n",
    "plt.show()"
   ]
  },
  {
   "cell_type": "code",
   "execution_count": null,
   "metadata": {},
   "outputs": [],
   "source": [
    "# show OD, growth rate, LED data for all reactors\n",
    "ax_OD, ax_gr, ax_LEDs = session.plot_reactor_group(show_fl=False, reactor_ids=[1, 2, 3, 4, 6, 7, 8])\n",
    "ax_OD.set(xlim=(0,24))\n",
    "ax_OD.set(ylim=(0,1))"
   ]
  },
  {
   "cell_type": "code",
   "execution_count": null,
   "metadata": {},
   "outputs": [],
   "source": [
    "session.status"
   ]
  },
  {
   "cell_type": "code",
   "execution_count": null,
   "metadata": {
    "scrolled": false
   },
   "outputs": [],
   "source": [
    "# same but showing cytometry data as well (median, ungated)\n",
    "ax_OD, ax_gr, ax_LEDs, ax_fl = session.plot_reactor_group(show_fl=True, ch_fl='GRN-B-HLin', reactor_ids=[1,2,3,4,6,7,8])\n",
    "ax_fl.set_ylim([0,10*10**2])\n",
    "ax_OD.set_ylim([-0.05,1])\n",
    "ax_OD.set_xlim([0,24])"
   ]
  },
  {
   "cell_type": "code",
   "execution_count": null,
   "metadata": {
    "scrolled": false
   },
   "outputs": [],
   "source": [
    "#FSC = size --> to see if conta\n",
    "for i in [1,2,3,4,6,7,8]:\n",
    "        session.programs[i].plot_all_cells(ch_fl='FSC-HLin')"
   ]
  },
  {
   "cell_type": "code",
   "execution_count": null,
   "metadata": {
    "scrolled": false
   },
   "outputs": [],
   "source": [
    "#check mCer (sensor)\n",
    "\n",
    "for i in [1,2,3,4,6,7,8]:\n",
    "        session.programs[i].plot_all_cells(ch_fl='GRN-B-HLin')"
   ]
  },
  {
   "cell_type": "markdown",
   "metadata": {},
   "source": [
    "## Inoculation\n",
    "\n",
    "When blanking phase is finished, you might want to inoculate.\n",
    "\n",
    "**DON'T INOCULATE BEFORE END OF BLANKING !!!!!!!**\n",
    "\n",
    "**After, let's pump out via the drain this time to remove excess volume.**"
   ]
  },
  {
   "cell_type": "code",
   "execution_count": null,
   "metadata": {},
   "outputs": [],
   "source": [
    "session.pause()\n",
    "session.start_output_flow()"
   ]
  },
  {
   "cell_type": "code",
   "execution_count": null,
   "metadata": {},
   "outputs": [],
   "source": [
    "session.stop_output_flow()\n",
    "session.start()"
   ]
  },
  {
   "cell_type": "markdown",
   "metadata": {},
   "source": [
    "## Changing program parameters: OD setpoint, LED intensities, etc...\n",
    "\n",
    "Because the main loop is running in a thread, you have access to the `Program` object, so you can live modify them.\n",
    "\n",
    "Modifications will be 'seen' by the main loop thread."
   ]
  },
  {
   "cell_type": "code",
   "execution_count": null,
   "metadata": {},
   "outputs": [],
   "source": [
    "# display current OD setpoint and OD\n",
    "for program in session.programs.values():\n",
    "    print(f'{program.reactor_id} - {program.OD_setpoint} - {program.give_last_OD()}')"
   ]
  },
  {
   "cell_type": "code",
   "execution_count": null,
   "metadata": {},
   "outputs": [],
   "source": [
    "for program in session.programs.values():\n",
    "    program.OD_setpoint = 1.0"
   ]
  },
  {
   "cell_type": "code",
   "execution_count": null,
   "metadata": {},
   "outputs": [],
   "source": [
    "# set LED intensities. 0 is dark, 255 is max intensity. It erases oingoing duty cycling !\n",
    "# now this cell can take some time (32 seconds...)\n",
    "intensities = {rid:50 for rid in range(1,17)}\n",
    "for rid,intensity in intensities.items():\n",
    "    program = session.programs[rid]\n",
    "    program.set_LED(intensity)"
   ]
  },
  {
   "cell_type": "code",
   "execution_count": null,
   "metadata": {},
   "outputs": [],
   "source": [
    "# set LED duty cycling\n",
    "period_s = 0.5*3600\n",
    "n_cycles = 200\n",
    "intensity = 40\n",
    "duty_cycles = {9:0, 10:0.25, 15:0.5, 16:0.75}\n",
    "for rid,fraction in duty_cycles.items():\n",
    "    program = session.programs[rid]\n",
    "    program.start_LED_duty_cycle(intensity, period_s, fraction, n_cycles)"
   ]
  },
  {
   "cell_type": "code",
   "execution_count": null,
   "metadata": {},
   "outputs": [],
   "source": [
    "# use a timer to change something in a certain amount of time\n",
    "def change_od_setpoint():\n",
    "    for program in session.programs.values():\n",
    "        program.OD_setpoint = 1.2\n",
    "t = Timer(2.5 * 3600, change_od_setpoint)\n",
    "t.start()"
   ]
  },
  {
   "cell_type": "code",
   "execution_count": null,
   "metadata": {},
   "outputs": [],
   "source": [
    "# set LED duty cycling\n",
    "period_s = 48*3600\n",
    "n_cycles = 2000\n",
    "intensity = 20\n",
    "duty_cycles = {1:0.125, 8:0.125}\n",
    "for rid,fraction in duty_cycles.items():\n",
    "    program = session.programs[rid]\n",
    "    program.start_LED_duty_cycle(intensity, period_s, fraction, n_cycles)"
   ]
  },
  {
   "cell_type": "code",
   "execution_count": null,
   "metadata": {},
   "outputs": [],
   "source": [
    "# set LED duty cycling\n",
    "period_s = 48*3600\n",
    "n_cycles = 2000\n",
    "intensity = 20\n",
    "duty_cycles = {2:1, 3:1, 4:1, 5:1, 6:1, 7:1}\n",
    "for rid,fraction in duty_cycles.items():\n",
    "    program = session.programs[rid]\n",
    "    program.start_LED_duty_cycle(intensity, period_s, fraction, n_cycles)"
   ]
  },
  {
   "cell_type": "code",
   "execution_count": null,
   "metadata": {},
   "outputs": [],
   "source": [
    "# set LED duty cycling\n",
    "period_s = 0.5*3600\n",
    "n_cycles = 2000\n",
    "intensity = 20\n",
    "duty_cycles = {1:0, 2:0.15, 3:0.3, 4:0.85, 6:0.15, 7:0.43, 8:1}\n",
    "for rid,fraction in duty_cycles.items():\n",
    "    program = session.programs[rid]\n",
    "    program.start_LED_duty_cycle(intensity, period_s, fraction, n_cycles)"
   ]
  },
  {
   "cell_type": "code",
   "execution_count": 8,
   "metadata": {},
   "outputs": [],
   "source": [
    "# set LED duty cycling\n",
    "#From former exp of Sebas\n",
    "period_s = 0.5*3600\n",
    "n_cycles = 2000\n",
    "intensity = 20\n",
    "duty_cycles = {1:0, 2:0.143, 3:0.35, 4:0.45, 5:0.571, 6:0.714, 7:0.857, 8:1}\n",
    "for rid,fraction in duty_cycles.items():\n",
    "    program = session.programs[rid]\n",
    "    program.start_LED_duty_cycle(intensity, period_s, fraction, n_cycles)"
   ]
  },
  {
   "cell_type": "markdown",
   "metadata": {},
   "source": [
    "## Scheduling cytometry\n",
    "\n",
    "removed outdated info...."
   ]
  },
  {
   "cell_type": "code",
   "execution_count": 18,
   "metadata": {},
   "outputs": [],
   "source": [
    "## activate cytometry measurements for reactors 1-8\n",
    "for rid in [1,2,3,4,5,6,7,8]:\n",
    "    session.programs[rid].active_cytometry = True"
   ]
  },
  {
   "cell_type": "code",
   "execution_count": 19,
   "metadata": {},
   "outputs": [
    {
     "data": {
      "text/plain": [
       "{1: <cytoreactors.design.program.TurbidostatProgram at 0xb94c5c8>,\n",
       " 2: <cytoreactors.design.program.TurbidostatProgram at 0x9149688>,\n",
       " 3: <cytoreactors.design.program.TurbidostatProgram at 0x561d908>,\n",
       " 4: <cytoreactors.design.program.TurbidostatProgram at 0xb94c948>,\n",
       " 5: <cytoreactors.design.program.TurbidostatProgram at 0x53b3d08>,\n",
       " 6: <cytoreactors.design.program.TurbidostatProgram at 0x560c2c8>,\n",
       " 7: <cytoreactors.design.program.TurbidostatProgram at 0x561de48>,\n",
       " 8: <cytoreactors.design.program.TurbidostatProgram at 0xb94c888>}"
      ]
     },
     "execution_count": 19,
     "metadata": {},
     "output_type": "execute_result"
    }
   ],
   "source": [
    "## display active reactors for cytometry\n",
    "session.programs_with_cytometry"
   ]
  },
  {
   "cell_type": "code",
   "execution_count": null,
   "metadata": {},
   "outputs": [],
   "source": [
    "## to use if you want to renew volume via media input after sampling\n",
    "for rid in [1,2,3,4,5,6,7,8]:\n",
    "    session.programs[rid].renew_sampled_volume = False"
   ]
  },
  {
   "cell_type": "code",
   "execution_count": 47,
   "metadata": {},
   "outputs": [
    {
     "name": "stdout",
     "output_type": "stream",
     "text": [
      "too few events in the sample, returning None\n",
      "too few events in the sample, returning None\n",
      "too few events in the sample, returning None\n",
      "too few events in the sample, returning None\n",
      "too few events in the sample, returning None\n",
      "too few events in the sample, returning None\n",
      "too few events in the sample, returning None\n",
      "too few events in the sample, returning None\n"
     ]
    }
   ],
   "source": [
    "## scheduling a SINGLE timepoint NOW\n",
    "session.schedule_sampling(time())"
   ]
  },
  {
   "cell_type": "code",
   "execution_count": null,
   "metadata": {},
   "outputs": [],
   "source": [
    "## scheduling with 15 hours delay\n",
    "for i in range(23):\n",
    "    session.schedule_sampling(time()+12.25*3600+i*45*60)"
   ]
  },
  {
   "cell_type": "code",
   "execution_count": null,
   "metadata": {},
   "outputs": [],
   "source": [
    "## scheduling a SINGLE timepoint in 2 hours from now\n",
    "session.schedule_sampling(time()+2*3600)"
   ]
  },
  {
   "cell_type": "code",
   "execution_count": 49,
   "metadata": {},
   "outputs": [],
   "source": [
    "## scheduling 12 timepoints separated by 45mins starting now\n",
    "for i in range(24):\n",
    "    session.schedule_sampling(time()+i*15*60)"
   ]
  },
  {
   "cell_type": "code",
   "execution_count": null,
   "metadata": {},
   "outputs": [],
   "source": [
    "session.samplings[-1]"
   ]
  },
  {
   "cell_type": "code",
   "execution_count": null,
   "metadata": {},
   "outputs": [],
   "source": [
    "session.sampling_schedule = []\n",
    "last_tp = session.samplings[-1]\n",
    "for i in range(24):\n",
    "    session.schedule_sampling(last_tp+(i+1)*60)"
   ]
  },
  {
   "cell_type": "code",
   "execution_count": 52,
   "metadata": {},
   "outputs": [
    {
     "data": {
      "text/plain": [
       "True"
      ]
     },
     "execution_count": 52,
     "metadata": {},
     "output_type": "execute_result"
    }
   ],
   "source": [
    "## display if we are waiting for guava data\n",
    "session.waiting_for_guava_data "
   ]
  },
  {
   "cell_type": "code",
   "execution_count": 54,
   "metadata": {},
   "outputs": [],
   "source": [
    "session.waiting_for_guava_data = False"
   ]
  },
  {
   "cell_type": "code",
   "execution_count": 53,
   "metadata": {},
   "outputs": [
    {
     "data": {
      "text/plain": [
       "False"
      ]
     },
     "execution_count": 53,
     "metadata": {},
     "output_type": "execute_result"
    },
    {
     "name": "stdout",
     "output_type": "stream",
     "text": [
      "too few events in the sample, returning None\n",
      "too few events in the sample, returning None\n",
      "too few events in the sample, returning None\n",
      "too few events in the sample, returning None\n",
      "too few events in the sample, returning None\n",
      "too few events in the sample, returning None\n",
      "too few events in the sample, returning None\n",
      "too few events in the sample, returning None\n"
     ]
    }
   ],
   "source": [
    "## display if wash ongoing or about to start\n",
    "session.should_wash"
   ]
  },
  {
   "cell_type": "code",
   "execution_count": null,
   "metadata": {},
   "outputs": [],
   "source": [
    "## display the number of done samplings\n",
    "len(session.samplings)"
   ]
  },
  {
   "cell_type": "code",
   "execution_count": 46,
   "metadata": {},
   "outputs": [],
   "source": [
    "session.sampling_schedule = []"
   ]
  },
  {
   "cell_type": "code",
   "execution_count": 51,
   "metadata": {
    "scrolled": true
   },
   "outputs": [
    {
     "name": "stdout",
     "output_type": "stream",
     "text": [
      "Timepoint in -22.08408525387446 minutes\n",
      "Timepoint in -7.084085253874461 minutes\n",
      "Timepoint in 7.915914746125539 minutes\n",
      "Timepoint in 22.91591474612554 minutes\n",
      "Timepoint in 37.91591474612554 minutes\n",
      "Timepoint in 52.91591474612554 minutes\n",
      "Timepoint in 67.91591474612554 minutes\n",
      "Timepoint in 82.91591474612554 minutes\n",
      "Timepoint in 97.91591474612554 minutes\n",
      "Timepoint in 112.91591474612554 minutes\n",
      "Timepoint in 127.91591474612554 minutes\n",
      "Timepoint in 142.91591474612554 minutes\n",
      "Timepoint in 157.91591474612554 minutes\n",
      "Timepoint in 172.91591474612554 minutes\n",
      "Timepoint in 187.91591474612554 minutes\n",
      "Timepoint in 202.91591474612554 minutes\n",
      "Timepoint in 217.91591474612554 minutes\n",
      "Timepoint in 232.91591474612554 minutes\n",
      "Timepoint in 247.91591474612554 minutes\n",
      "Timepoint in 262.91591474612557 minutes\n",
      "Timepoint in 277.91591474612557 minutes\n",
      "Timepoint in 292.91591474612557 minutes\n",
      "Timepoint in 307.91591474612557 minutes\n"
     ]
    }
   ],
   "source": [
    "## display the sampling schedule\n",
    "for tp in session.sampling_schedule:\n",
    "    dt_min = (tp-time())/60.\n",
    "    print(f'Timepoint in {dt_min} minutes')"
   ]
  },
  {
   "cell_type": "markdown",
   "metadata": {},
   "source": [
    "The following cell is to call ONLY after replacing full state sampling\n",
    "\n",
    "* you should have new tips, new plates, reservoir in position\n",
    "* it will ask you to WIPE any drops on the sampling output lines\n",
    "* if the session is running, it will pause it\n",
    "* it will ask for your 'ok' when you have done it\n",
    "* it will then move above both sampling plates to check correct positioning\n",
    "* if the session was running, it will restart it"
   ]
  },
  {
   "cell_type": "code",
   "execution_count": null,
   "metadata": {},
   "outputs": [],
   "source": [
    "## READ ABOVE\n",
    "session.reset_all_sampling_state()"
   ]
  },
  {
   "cell_type": "code",
   "execution_count": null,
   "metadata": {},
   "outputs": [],
   "source": [
    "## display the current plate and current col\n",
    "print(f'plate num: {session.ot2_plate_num} -- column: {session.ot2_col}')"
   ]
  },
  {
   "cell_type": "markdown",
   "metadata": {},
   "source": [
    "## Pausing a session, restarting a session\n",
    "\n",
    "Pausing a session can be useful to start a sampling program, or to inspect the vessel, etc...\n",
    "\n",
    "**DON'T FORGET TO START BACK**"
   ]
  },
  {
   "cell_type": "code",
   "execution_count": null,
   "metadata": {
    "scrolled": true
   },
   "outputs": [],
   "source": [
    "print(session.status)"
   ]
  },
  {
   "cell_type": "code",
   "execution_count": null,
   "metadata": {},
   "outputs": [],
   "source": [
    "session.stop()\n",
    "print(session.status)"
   ]
  },
  {
   "cell_type": "code",
   "execution_count": null,
   "metadata": {},
   "outputs": [],
   "source": [
    "session.pause()"
   ]
  },
  {
   "cell_type": "code",
   "execution_count": null,
   "metadata": {},
   "outputs": [],
   "source": [
    "session.start()\n",
    "print(session.status)"
   ]
  },
  {
   "cell_type": "markdown",
   "metadata": {},
   "source": [
    "## Taking samples manually"
   ]
  },
  {
   "cell_type": "code",
   "execution_count": null,
   "metadata": {
    "scrolled": true
   },
   "outputs": [],
   "source": [
    "session.pause()\n",
    "session.status"
   ]
  },
  {
   "cell_type": "code",
   "execution_count": null,
   "metadata": {},
   "outputs": [],
   "source": [
    "session.pinch_drain_valves()"
   ]
  },
  {
   "cell_type": "code",
   "execution_count": null,
   "metadata": {},
   "outputs": [],
   "source": [
    "# dead volume\n",
    "for rid in [1,2,3,4,6,7,8]:\n",
    "    session.manager.open_pump_for_volume(f'H{rid}', 1)"
   ]
  },
  {
   "cell_type": "code",
   "execution_count": null,
   "metadata": {},
   "outputs": [],
   "source": [
    "# to do one by on\n",
    "rid = 8\n",
    "session.manager.open_pump_for_volume(f'H{rid}', 1)\n",
    "print(f'done {rid}')"
   ]
  },
  {
   "cell_type": "code",
   "execution_count": null,
   "metadata": {},
   "outputs": [],
   "source": [
    "session.unpinch_drain_valves()"
   ]
  },
  {
   "cell_type": "code",
   "execution_count": null,
   "metadata": {},
   "outputs": [],
   "source": [
    "session.start()\n",
    "session.status"
   ]
  },
  {
   "cell_type": "code",
   "execution_count": null,
   "metadata": {},
   "outputs": [],
   "source": []
  },
  {
   "cell_type": "code",
   "execution_count": null,
   "metadata": {},
   "outputs": [],
   "source": [
    "(24 - (time()-session.programs[2].LEDs['time_s'][0])/3600)"
   ]
  },
  {
   "cell_type": "markdown",
   "metadata": {},
   "source": [
    "## Stopping a run and cleaning procedure"
   ]
  },
  {
   "cell_type": "code",
   "execution_count": 55,
   "metadata": {},
   "outputs": [
    {
     "name": "stdout",
     "output_type": "stream",
     "text": [
      "Stopping session\n",
      "stopped\n"
     ]
    }
   ],
   "source": [
    "# if can stop everything\n",
    "session.stop()\n",
    "print(session.status)"
   ]
  },
  {
   "cell_type": "code",
   "execution_count": null,
   "metadata": {},
   "outputs": [],
   "source": [
    "# copy cyto data to atlas\n",
    "for program in session.programs.values():\n",
    "    program.cells.to_csv(f'{program.atlas_path}/cells.csv', index=False)"
   ]
  },
  {
   "cell_type": "code",
   "execution_count": null,
   "metadata": {},
   "outputs": [],
   "source": [
    "# if don't want to stop because not cleaning all reactors (for instance cleaning 1-8 when 9-16) active\n",
    "# then OK not to STOP EXCEPT IF CYTOMETRY TIMEPOINTS TO COME DURING THE CLEANING !!!!\n",
    "# the method below will also remove corresponding programs from main loop\n",
    "session.register_reactors_for_cleaning([1,2,3,5,4,6,7,8])"
   ]
  },
  {
   "cell_type": "markdown",
   "metadata": {},
   "source": [
    "### 1. remove bulk of culture\n",
    "\n",
    "Put both drain and sampling metal tubing DOWN."
   ]
  },
  {
   "cell_type": "code",
   "execution_count": null,
   "metadata": {},
   "outputs": [],
   "source": [
    "# now we open outputs with a volume of 35 mL per reactor to make sure we removed everything\n",
    "session.remove_volume(volume_mL=25, cleaning=True, pinch_drain_valves=False)"
   ]
  },
  {
   "cell_type": "code",
   "execution_count": null,
   "metadata": {},
   "outputs": [],
   "source": [
    "# the cell above should have been enough to have removed everything (i.e. mostly air coming out)\n",
    "# IF NOT THE CASE, use this cell to run a bit more\n",
    "session.remove_volume(volume_mL=5, cleaning=True, pinch_drain_valves=False)"
   ]
  },
  {
   "cell_type": "markdown",
   "metadata": {},
   "source": [
    "### 2. recover media bottles\n",
    "\n",
    "If 'decent' amount of media left in some of the media bottles, you can recover them by rapidly closing them with a cap from a autoclaved blue cap empty bottle.\n",
    "\n",
    "Swab the the input metal tubings with tissue paper because it is wet with media."
   ]
  },
  {
   "cell_type": "markdown",
   "metadata": {},
   "source": [
    "### 3. Running bleach through the system\n",
    "\n",
    "For 8 reactors, prepare a 500 mL becher with 200 mL (25 mL per reactor) of 0.5% bleach (~5 times dilution from the bleach bottle).\n",
    "\n",
    "Position the 2x4 input metal tubings in the becher."
   ]
  },
  {
   "cell_type": "code",
   "execution_count": null,
   "metadata": {},
   "outputs": [],
   "source": [
    "# we add first ~ half of it\n",
    "session.add_media(volume_mL=35, cleaning=True)"
   ]
  },
  {
   "cell_type": "markdown",
   "metadata": {},
   "source": [
    "We will now add 25 mL more BUT running through the inoculation port to clean it !\n",
    "\n",
    "Connect the input pump output tubing to the INOCULATION PORT (with keck open obviously)"
   ]
  },
  {
   "cell_type": "code",
   "execution_count": null,
   "metadata": {},
   "outputs": [],
   "source": [
    "# we add the remainder (through the inoculation port)\n",
    "session.add_media(volume_mL=25, cleaning=True)"
   ]
  },
  {
   "cell_type": "markdown",
   "metadata": {},
   "source": [
    "Now we have about 25 mL (level cannot be seen normally) of bleach in the vessel.\n",
    "\n",
    "Will we run all of it from both output lines."
   ]
  },
  {
   "cell_type": "code",
   "execution_count": null,
   "metadata": {},
   "outputs": [],
   "source": [
    "session.remove_volume(volume_mL=25, cleaning=True, pinch_drain_valves=True)\n",
    "session.remove_volume(volume_mL=30, cleaning=True, pinch_drain_valves=False)"
   ]
  },
  {
   "cell_type": "code",
   "execution_count": null,
   "metadata": {},
   "outputs": [],
   "source": [
    "session.remove_volume(volume_mL=15, cleaning=True, pinch_drain_valves=False)"
   ]
  },
  {
   "cell_type": "markdown",
   "metadata": {},
   "source": [
    "### 4. Running how water through the system\n",
    "\n",
    "For 8 reactors, prepare a 500 mL becher with 400 mL ( mL per reactor) of hot (microwave for 45 secs) DI water.\n",
    "Position the 2x4 input metal tubings in the becher."
   ]
  },
  {
   "cell_type": "code",
   "execution_count": null,
   "metadata": {},
   "outputs": [],
   "source": [
    "# we add first ~ half of it (through the inoc port)\n",
    "session.add_media(volume_mL=20, cleaning=True)"
   ]
  },
  {
   "cell_type": "markdown",
   "metadata": {},
   "source": [
    "Connect back the input pump output tubing to the media input port AND CLOSE THE KECK OF INOCULATION PORT"
   ]
  },
  {
   "cell_type": "code",
   "execution_count": null,
   "metadata": {},
   "outputs": [],
   "source": [
    "# we add the remainder (through the media input port)\n",
    "session.add_media(volume_mL=20, cleaning=True)"
   ]
  },
  {
   "cell_type": "markdown",
   "metadata": {},
   "source": [
    "We should now be at ball level ! Let's wait a bit, an let's go down a bit below the ball for next step, whi is output pump calib. this also prime the output lines for the calib."
   ]
  },
  {
   "cell_type": "code",
   "execution_count": null,
   "metadata": {},
   "outputs": [],
   "source": [
    "# going below ball and output lines priming\n",
    "session.remove_volume(volume_mL=10, cleaning=True, pinch_drain_valves=False)"
   ]
  },
  {
   "cell_type": "markdown",
   "metadata": {},
   "source": [
    "### 5. Output pump calibration\n",
    "\n",
    "Position the pump calibration device on the deck (at the place of the the first sampling plate holder), with the label facing you.\n",
    "\n",
    "Normaly, already primed output lines."
   ]
  },
  {
   "cell_type": "code",
   "execution_count": null,
   "metadata": {},
   "outputs": [],
   "source": [
    "# IF session running because other reactors, we should pause for calibration\n",
    "session.pause()"
   ]
  },
  {
   "cell_type": "code",
   "execution_count": null,
   "metadata": {},
   "outputs": [],
   "source": [
    "# moving above measurement device\n",
    "session.manager.send_ot2_request('move_to/sampling_metal/2')"
   ]
  },
  {
   "cell_type": "markdown",
   "metadata": {},
   "source": [
    "Now, ONE BY ONE, we will CALIBRATE by turning on and then MANUALLY TURNING OFF each output pump UNTIL THE MEASUREMENT DEVICE ROW IS FULL.\n",
    "\n",
    "RUN THE NEXT CELL ONLY WHEN YOU ARE READY TO PRESS ENTER EVERYTIME YOU FILLED THE MEASUREMENT DEVICE !"
   ]
  },
  {
   "cell_type": "code",
   "execution_count": null,
   "metadata": {},
   "outputs": [],
   "source": [
    "session.start_output_pump_calibration()"
   ]
  },
  {
   "cell_type": "code",
   "execution_count": null,
   "metadata": {},
   "outputs": [],
   "source": [
    "session.manager.send_ot2_request('gotobin')"
   ]
  },
  {
   "cell_type": "markdown",
   "metadata": {},
   "source": [
    "### 6. Input pump calibration\n",
    "\n",
    "Empty completely the measurement device, and put it back in place.\n",
    "\n",
    "ADD water to becher (150 for 8 reactors)\n",
    "\n",
    "Connect the output of INPUT pumps to the sampling lines"
   ]
  },
  {
   "cell_type": "code",
   "execution_count": null,
   "metadata": {},
   "outputs": [],
   "source": [
    "# prime sampling lines\n",
    "session.add_media(volume_mL=5, cleaning=True)"
   ]
  },
  {
   "cell_type": "code",
   "execution_count": null,
   "metadata": {},
   "outputs": [],
   "source": [
    "# moving above measurement device\n",
    "session.manager.send_ot2_request('move_to/sampling_metal/2')"
   ]
  },
  {
   "cell_type": "markdown",
   "metadata": {},
   "source": [
    "Now, ONE BY ONE, we will CALIBRATE by turning on and then MANUALLY TURNING OFF each input pump UNTIL THE MEASUREMENT DEVICE ROW IS FULL.\n",
    "\n",
    "RUN THE NEXT CELL ONLY WHEN YOU ARE READY TO PRESS ENTER EVERYTIME YOU FILLED THE MEASUREMENT DEVICE !"
   ]
  },
  {
   "cell_type": "code",
   "execution_count": null,
   "metadata": {},
   "outputs": [],
   "source": [
    "session.start_input_pump_calibration()"
   ]
  },
  {
   "cell_type": "code",
   "execution_count": null,
   "metadata": {},
   "outputs": [],
   "source": [
    "session.manager.send_ot2_request('gotobin')"
   ]
  },
  {
   "cell_type": "code",
   "execution_count": null,
   "metadata": {},
   "outputs": [],
   "source": [
    "# IF session running because other reactors, we can resume here\n",
    "session.start()"
   ]
  },
  {
   "cell_type": "markdown",
   "metadata": {},
   "source": [
    "NOW CONNECT BACK SAMPLING LINES TO OUTPUT PUMPS AND OUTPUT OF INPUT PUMPS TO NORMAL VESSEL INPUTS !"
   ]
  },
  {
   "cell_type": "markdown",
   "metadata": {},
   "source": [
    "### 7. Dry input lines and remove all water via both output lines"
   ]
  },
  {
   "cell_type": "code",
   "execution_count": null,
   "metadata": {},
   "outputs": [],
   "source": [
    "input('ARE YOU SURE ????????????? OUTPUT PUMP CONNECTED TO OUTPUT LINES ????????????')\n",
    "session.add_media(volume_mL=5, cleaning=True)\n",
    "session.remove_volume(volume_mL=15, cleaning=True, pinch_drain_valves=True)\n",
    "session.remove_volume(volume_mL=15, cleaning=True, pinch_drain_valves=False)\n",
    "session.remove_volume(volume_mL=5, cleaning=True, pinch_drain_valves=True)"
   ]
  },
  {
   "cell_type": "markdown",
   "metadata": {},
   "source": [
    "While this is happening, you can disengage back of pinch valves and OPEN KECK VALVES IF BELOW BALL"
   ]
  },
  {
   "cell_type": "markdown",
   "metadata": {},
   "source": [
    "### 8. disengage tubing from pinch valves\n",
    "\n",
    "first disengage drain tubing, then pinch, disengage sampling, then unpinch"
   ]
  },
  {
   "cell_type": "code",
   "execution_count": null,
   "metadata": {},
   "outputs": [],
   "source": [
    "session.pinch_drain_valves(reactor_ids=session.reactor_ids_to_clean)"
   ]
  },
  {
   "cell_type": "code",
   "execution_count": null,
   "metadata": {},
   "outputs": [],
   "source": [
    "session.unpinch_drain_valves(reactor_ids=session.reactor_ids_to_clean)"
   ]
  },
  {
   "cell_type": "markdown",
   "metadata": {},
   "source": [
    "### 9. Only if no other programs running of course \n",
    "\n",
    "* stop water bath and circulation\n",
    "* guava clean\n",
    "* thrash tips, clean reservoir\n",
    "* thrash sampling plates\n",
    "* clean all ot2 stuff\n",
    "* check tank\n",
    "* stop the valves and coils and leds"
   ]
  },
  {
   "cell_type": "code",
   "execution_count": 56,
   "metadata": {},
   "outputs": [],
   "source": [
    "# safety\n",
    "session.manager.shut_off_all_pumps_and_valves()"
   ]
  },
  {
   "cell_type": "code",
   "execution_count": 57,
   "metadata": {},
   "outputs": [],
   "source": [
    "# shut of leds (CAREFUL: NOT LOGGED in program data)\n",
    "session.manager.shut_off_all_LEDs()"
   ]
  },
  {
   "cell_type": "code",
   "execution_count": null,
   "metadata": {},
   "outputs": [],
   "source": []
  }
 ],
 "metadata": {
  "kernelspec": {
   "display_name": "Python 3",
   "language": "python",
   "name": "python3"
  },
  "language_info": {
   "codemirror_mode": {
    "name": "ipython",
    "version": 3
   },
   "file_extension": ".py",
   "mimetype": "text/x-python",
   "name": "python",
   "nbconvert_exporter": "python",
   "pygments_lexer": "ipython3",
   "version": "3.7.7"
  }
 },
 "nbformat": 4,
 "nbformat_minor": 4
}
